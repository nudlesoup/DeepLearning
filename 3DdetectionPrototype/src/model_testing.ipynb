{
 "cells": [
  {
   "cell_type": "code",
   "execution_count": 1,
   "metadata": {
    "collapsed": true
   },
   "outputs": [],
   "source": [
    "import mxnet as mx \n",
    "import numpy as np \n",
    "from Symbol import symbol"
   ]
  },
  {
   "cell_type": "code",
   "execution_count": 1,
   "metadata": {
    "collapsed": true
   },
   "outputs": [],
   "source": [
    "import mxnet as mx"
   ]
  },
  {
   "cell_type": "code",
   "execution_count": 16,
   "metadata": {},
   "outputs": [
    {
     "name": "stdout",
     "output_type": "stream",
     "text": [
      "[[ 2.  2.]\n",
      " [ 2.  2.]\n",
      " [ 2.  2.]]\n",
      "[[ 1.  1.]\n",
      " [ 1.  1.]\n",
      " [ 1.  1.]]\n",
      "2.0\n"
     ]
    }
   ],
   "source": [
    "import numpy as np \n",
    "a = np.ones(shape=(3,2))\n",
    "b = np.ones(shape=(1,2))*2\n",
    "print a*b\n",
    "print a\n",
    "print np.mean(a*b)"
   ]
  },
  {
   "cell_type": "code",
   "execution_count": 21,
   "metadata": {},
   "outputs": [
    {
     "data": {
      "text/plain": [
       "(3, 1, 2)"
      ]
     },
     "execution_count": 21,
     "metadata": {},
     "output_type": "execute_result"
    }
   ],
   "source": [
    "a[:, np.newaxis].shape"
   ]
  },
  {
   "cell_type": "code",
   "execution_count": 2,
   "metadata": {
    "collapsed": true
   },
   "outputs": [],
   "source": [
    "model_path=\"/home/chuck/bittiger_course_mxnet/DS502-AI-Engineer/DS502-1702/MXNET_course/mxnet-week4n5-final-project/pretrained_models/resnet-34\" \n",
    "epoch=0"
   ]
  },
  {
   "cell_type": "code",
   "execution_count": 3,
   "metadata": {
    "collapsed": true
   },
   "outputs": [],
   "source": [
    "sym, args, aux = mx.model.load_checkpoint(model_path, epoch)\n",
    "# extract last bn layer\n",
    "sym = sym.get_internals()['bn1_output']"
   ]
  },
  {
   "cell_type": "code",
   "execution_count": 8,
   "metadata": {
    "collapsed": true
   },
   "outputs": [],
   "source": [
    "anchors = np.asarray([[ 449.61853027,  360.13400269],\n",
    "       [ 234.92941284,  241.6000061 ],\n",
    "       [ 120.71929932,  115.58772278],\n",
    "       [ 302.77478027,  403.26126099],\n",
    "       [ 395.41271973,  236.67462158]], dtype=np.float32)\n",
    "num_boxes = len(anchors)"
   ]
  },
  {
   "cell_type": "code",
   "execution_count": 9,
   "metadata": {
    "collapsed": true,
    "scrolled": false
   },
   "outputs": [],
   "source": [
    "sym = mx.sym.Activation(data=sym, act_type=\"relu\", name=\"relu_final\")\n",
    "sym = mx.sym.Convolution(data=sym, kernel=(3, 3),\n",
    "                         num_filter=num_boxes*5, pad=(1, 1),\n",
    "                         stride=(1, 1), no_bias=True,\n",
    "                         )\n",
    "sym = mx.sym.transpose(sym, (0,2,3,1))\n",
    "# get softsign\n",
    "sym = sym / (1 + mx.sym.abs(sym))"
   ]
  },
  {
   "cell_type": "code",
   "execution_count": 10,
   "metadata": {
    "collapsed": true
   },
   "outputs": [],
   "source": [
    "def YoloV2loss(label, pred, anchors):\n",
    "    pred_splits = mx.sym.split(splits, num_outputs=num_boxes*5, axis=2) \n",
    "    cp1, xp1, yp1, wp1, hp1, \\\n",
    "    cp2, xp2, yp2, wp2, hp2, \\\n",
    "    cp3, xp3, yp3, wp3, hp3, \\\n",
    "    cp4, xp4, yp4, wp4, hp4, \\\n",
    "    cp5, xp5, yp5, wp5, hp5= mx.sym.split(pred, num_outputs=25, axis=2)    \n",
    "    cl, xl, yl, wl, hl = mx.sym.split(label, num_outputs=5, axis=2)\n",
    "    \n",
    "    \n",
    "    if_wsmall = (cl - anchors[0][0])>0\n",
    "    if_hsmall = (cl - anchors[0][1]>0)\n",
    "    intersect = (wl*(if_wsmall)+anchors[0][0]*(1-if_wsmall)) * (hl*(if_hsmall)+anchors[0][1]*(1-if_hsmall))\n",
    "    IOU = intersect / (wl*hl+anchors[0][0]*anchors[0][1] - intersect)"
   ]
  },
  {
   "cell_type": "code",
   "execution_count": 15,
   "metadata": {
    "collapsed": true
   },
   "outputs": [],
   "source": [
    "t1 = mx.nd.array(ctx=mx.cpu(), source_array=np.asarray([1,20,3,4,45]))\n",
    "t2 = mx.nd.array(ctx=mx.cpu(), source_array=np.asarray([1,2,13,4,5]))"
   ]
  },
  {
   "cell_type": "code",
   "execution_count": 21,
   "metadata": {},
   "outputs": [
    {
     "ename": "TypeError",
     "evalue": "unsupported operand type(s) for +: 'NoneType' and 'NoneType'",
     "traceback": [
      "\u001b[0;31m---------------------------------------------------------------------------\u001b[0m",
      "\u001b[0;31mTypeError\u001b[0m                                 Traceback (most recent call last)",
      "\u001b[0;32m<ipython-input-21-909275ab5f09>\u001b[0m in \u001b[0;36m<module>\u001b[0;34m()\u001b[0m\n\u001b[0;32m----> 1\u001b[0;31m \u001b[0mt1\u001b[0m\u001b[0;34m[\u001b[0m\u001b[0mt1\u001b[0m\u001b[0;34m>\u001b[0m\u001b[0mt2\u001b[0m\u001b[0;34m]\u001b[0m\u001b[0;34m+\u001b[0m\u001b[0mt2\u001b[0m\u001b[0;34m[\u001b[0m\u001b[0mt1\u001b[0m\u001b[0;34m<\u001b[0m\u001b[0mt2\u001b[0m\u001b[0;34m]\u001b[0m\u001b[0;34m\u001b[0m\u001b[0m\n\u001b[0m",
      "\u001b[0;31mTypeError\u001b[0m: unsupported operand type(s) for +: 'NoneType' and 'NoneType'"
     ],
     "output_type": "error"
    }
   ],
   "source": [
    "t1[t1>t2]+t2[t1<t2]"
   ]
  }
 ],
 "metadata": {
  "kernelspec": {
   "display_name": "Python 2",
   "language": "python",
   "name": "python2"
  },
  "language_info": {
   "codemirror_mode": {
    "name": "ipython",
    "version": 2.0
   },
   "file_extension": ".py",
   "mimetype": "text/x-python",
   "name": "python",
   "nbconvert_exporter": "python",
   "pygments_lexer": "ipython2",
   "version": "2.7.12"
  }
 },
 "nbformat": 4,
 "nbformat_minor": 0
}